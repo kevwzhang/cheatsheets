{
 "cells": [
  {
   "cell_type": "markdown",
   "id": "94bcb454-032d-49a4-8b9f-3f0964ec614a",
   "metadata": {
    "jp-MarkdownHeadingCollapsed": true,
    "tags": []
   },
   "source": [
    "# Perceptron"
   ]
  },
  {
   "cell_type": "code",
   "execution_count": 1,
   "id": "6e5e8870-aafd-43f7-9c54-204f874f35dd",
   "metadata": {},
   "outputs": [],
   "source": [
    "import matplotlib.pyplot as plt\n",
    "import random\n",
    "import torch\n",
    "import torch.nn as nn\n",
    "import numpy as np\n",
    "import math"
   ]
  },
  {
   "cell_type": "markdown",
   "id": "0529a320-c3fb-4869-a6ab-609415a74264",
   "metadata": {},
   "source": [
    "The **perceptron** is the building block of artificial neural networks. The concept of a perceptron is based off of the neuron. A perceptron analogous to a neuron as an artificial neural network is analogous to a biological neural network of a living organism."
   ]
  },
  {
   "cell_type": "markdown",
   "id": "d6b8685f-ccaa-462d-a67a-6c07f0537491",
   "metadata": {},
   "source": [
    "The architecture of a perceptron consists of three main components: a set of **weights**, a **bias**, and an **activation function**. Input data is fed into the perceptron, the **weighted sum** is calculated using the input data and the weights and bias values, then, that sum is fed into the activation function which transforms the sum, and then that value is output as the final result."
   ]
  },
  {
   "cell_type": "markdown",
   "id": "0379131a-05b8-4bb7-b59c-85c4bd5742d7",
   "metadata": {},
   "source": [
    "The weights of a perceptron are usually represented with a vector:"
   ]
  },
  {
   "cell_type": "markdown",
   "id": "661ea5aa-a5e4-4e10-ae3b-3f2de05b84a2",
   "metadata": {},
   "source": [
    "$$w = \\begin{bmatrix} w_1 & w_2 & w_3 & \\ldots & w_d \\end{bmatrix}$$"
   ]
  },
  {
   "cell_type": "markdown",
   "id": "b060dec5-4344-4839-86c3-79d4cc211aa1",
   "metadata": {},
   "source": [
    "where $w_1, \\ldots, w_d$ are numeric weight values. $d$ is the number of dimensions of an input value (the number of features of the input values). Bias is a scalar value represented with the letter $b$ or sometimes $w_0$. If I wanted to, I could include the bias $w_0$ as its own \"weight\" in the weight vector instead of denoting it as a separate variable $b$."
   ]
  },
  {
   "cell_type": "markdown",
   "id": "bbf36f17-9d35-4b87-88b4-a67a08b588ea",
   "metadata": {},
   "source": [
    "Each input data point $x_i$ with $d$ number of features can also be represented as a vector:"
   ]
  },
  {
   "cell_type": "markdown",
   "id": "ef56dc02-5510-4e82-92fc-16bace952a3c",
   "metadata": {},
   "source": [
    "$$x_i = \\begin{bmatrix} x_{i,1} & x_{i,2} & x_{i,3} & \\ldots & x_{i,d} \\end{bmatrix}$$"
   ]
  },
  {
   "cell_type": "markdown",
   "id": "7e2a27dd-3b6c-4b9f-a09f-e9802be8f9ea",
   "metadata": {},
   "source": [
    "I can also include $1$ as $x_{i,0}$ if the bias value is included in the weight vector. The weighted sum is calculated by taking the dot product of the weight and input vectors."
   ]
  },
  {
   "cell_type": "markdown",
   "id": "799e4cd7-7d5a-4264-a783-f3657407e9df",
   "metadata": {},
   "source": [
    "The activation function of a perceptron is any one-variable function that transforms the output of the weighted sum into an new output."
   ]
  },
  {
   "cell_type": "markdown",
   "id": "aed2f600-9a6b-4d39-8050-30cd0c794fec",
   "metadata": {},
   "source": [
    "When tasked with creating a good model for a particular regression/classification problem, a collection of interconnected perceptrons (a neural network) is often used. A perceptron/neural network \"learns\" to model a dataset by finding the weight and bias values that best fit the dataset. The ideal weight and bias values can be found by processing the same data points in the dataset over and over again while trying different combinations of weight and bias values. The performance of a model is usually measured with a **loss function**. A loss function calculates the difference between the current output of a model and the expected output. If the learning/training steps are implemented correctly, I would expect the loss to decrease with over several epochs until it converges onto a value. A loss function also helps me adjust the weight and bias values appropriately so I do not have to guess and try random weight and bias combinations and just hope I stumble across the best values to model the data."
   ]
  },
  {
   "cell_type": "markdown",
   "id": "12f2a312-765b-4136-be0b-3f3f152fa904",
   "metadata": {
    "tags": []
   },
   "source": [
    "## Linear Regression (Least Squares)"
   ]
  },
  {
   "cell_type": "markdown",
   "id": "1ed234fc-05e2-442d-90d4-ebb1a3b3bb3e",
   "metadata": {},
   "source": [
    "Say I have a collection of $(x,y)$ data points and I want to find the line that best fits the data. For a more concrete example, let me use the same dataset used in the linear regression IPython notebook:"
   ]
  },
  {
   "cell_type": "markdown",
   "id": "7c3dee82-f99a-4e4c-b5db-d1e7e6be892f",
   "metadata": {},
   "source": [
    "$$D = [(-1.5, 4),(-0.1, 4),(0.6, 3.1),(2.3, 0.3),(-1.2, 2.4),(1.6, 0.4),(1.7, 1.2),(-0.2, 2.4),(0.7, 2.3),(0.5, 1.75)]$$"
   ]
  },
  {
   "cell_type": "markdown",
   "id": "95fbd130-ede1-4a77-940a-f7ac56f6abb0",
   "metadata": {},
   "source": [
    "Scatter plot of the dataset $D$:"
   ]
  },
  {
   "cell_type": "code",
   "execution_count": 2,
   "id": "df1b66f3-0f24-4c98-b5af-b4bc90b32dc1",
   "metadata": {},
   "outputs": [
    {
     "data": {
      "image/png": "[encoded data removed]",
      "text/plain": [
       "<Figure size 432x288 with 1 Axes>"
      ]
     },
     "metadata": {
      "needs_background": "light"
     },
     "output_type": "display_data"
    }
   ],
   "source": [
    "dataset = [(-1.5, 4),(-0.1, 4),(0.6, 3.1),(2.3, 0.3),(-1.2, 2.4),(1.6, 0.4),(1.7, 1.2),(-0.2, 2.4),(0.7, 2.3),(0.5, 1.75)]\n",
    "\n",
    "plt.title(\"Scatter Plot of Dataset\")\n",
    "plt.xlabel(\"Independent Variable Observations\")\n",
    "plt.ylabel(\"Dependent Variable Observations\")\n",
    "plt.scatter(x=[p[0] for p in dataset], y=[p[1] for p in dataset])\n",
    "plt.show()"
   ]
  },
  {
   "cell_type": "markdown",
   "id": "985d2fd2-a4d0-4184-b3e4-c274f958caf1",
   "metadata": {},
   "source": [
    "I can use a perceptron to solve the least squares linear regression problem. In fact, the way the architecture of the perceptron is definied makes it really easy to use the stochastic gradient descent method to solve the least squares problem."
   ]
  },
  {
   "cell_type": "markdown",
   "id": "d6ef0232-9a94-4156-a116-d7ae573aa88b",
   "metadata": {},
   "source": [
    "If I define the activiation function as the identity function $f(x)=x$, the loss function as the square of the difference between the true value $y_i$ and the predicted value $\\hat y_i$, what I have is basically everything needed to perform least squares stochastic gradient descent, just in perceptron form."
   ]
  },
  {
   "cell_type": "markdown",
   "id": "c5e650b5-69f9-4696-9590-5fbdc8c27f50",
   "metadata": {},
   "source": [
    "Recalling the formulas from my section on linear least squares stochastic gradient descent:"
   ]
  },
  {
   "cell_type": "markdown",
   "id": "8964becc-e91a-4ef6-9156-62ecd3cd2c8b",
   "metadata": {},
   "source": [
    "$$\n",
    "MSE = \\frac{1}{n} \\sum\\limits_{i = 1}^{n} (y_i - \\hat{\\beta}_0 - \\hat{\\beta}_1 x_i)^2\n",
    "$$\n",
    "$$\n",
    "\\nabla MSE =\n",
    "\\begin{bmatrix}\n",
    "    MSE_{\\hat{\\beta}_0} \\\\\n",
    "    MSE_{\\hat{\\beta}_1}\n",
    "\\end{bmatrix}\n",
    "=\n",
    "\\begin{bmatrix}\n",
    "    \\frac{1}{n} \\sum\\limits_{i = 1}^{n} -2(y_i - \\hat{\\beta}_0 - \\hat{\\beta}_1 x_i) \\\\\n",
    "    \\frac{1}{n} \\sum\\limits_{i = 1}^{n} -2x_i(y_i - \\hat{\\beta}_0 - \\hat{\\beta}_1 x_i)\n",
    "\\end{bmatrix}\n",
    "$$\n",
    "\n",
    "$$\n",
    "\\begin{bmatrix}\n",
    "    {\\hat{\\beta}_0}_{n+1} \\\\\n",
    "    {\\hat{\\beta}_1}_{n+1}\n",
    "\\end{bmatrix}\n",
    "=\n",
    "\\begin{bmatrix}\n",
    "    {\\hat{\\beta}_0}_n \\\\\n",
    "    {\\hat{\\beta}_1}_n\n",
    "\\end{bmatrix}\n",
    "- \\eta\n",
    "\\nabla MSE ({\\hat{\\beta}_0}_n, {\\hat{\\beta}_1}_n)\n",
    "$$"
   ]
  },
  {
   "cell_type": "markdown",
   "id": "446f58f5-b1c1-4509-a6d6-9b1ccde3e611",
   "metadata": {},
   "source": [
    "I want to rewrite and rearrange these formulas a bit so that it is a little bit more clear how these formulas fit into the perceptron model."
   ]
  },
  {
   "cell_type": "markdown",
   "id": "6b17ca31-86ec-498a-9802-372514105305",
   "metadata": {},
   "source": [
    "The perceptron typically separates the bias component and the weight components. Above, I have the bias and weight(s) in one gradient vector, so let me rewrite them separately:"
   ]
  },
  {
   "cell_type": "markdown",
   "id": "d20cdede-c709-4353-a6ed-ed3e92f1e17d",
   "metadata": {},
   "source": [
    "$$\n",
    "b_{n+1} = b_n - \\eta MSE_{b}(b_n, w_{1\\, n}) = b_n - \\eta\\left(\\frac{1}{m} \\sum\\limits_{i = 1}^{m} -2(y_i - b_n - w_{1\\, n} x_{i,1})\\right) \\\\\n",
    "w_{1\\, n+1} = w_{1\\, n} - \\eta MSE_{w_1}(b_n, w_{1\\, n}) = w_{1\\, n} - \\eta\\left(\\frac{1}{m} \\sum\\limits_{i = 1}^{m} -2x_{i,1}(y_i - b_n - w_{1\\, n} x_{i,1})\\right)\n",
    "$$"
   ]
  },
  {
   "cell_type": "markdown",
   "id": "d661add9-dcbd-4a3a-854d-854419ff768b",
   "metadata": {},
   "source": [
    "Note that I have replaced $\\hat{\\beta}_0$ with $b$ and $\\hat{\\beta}_1$ with $w_1$ so that the variables fit the context of the perceptron. Also a small replacement of $n$ with $m$ is used two avoid confusion with what would otherwise be two different values represented by the same variable $n$."
   ]
  },
  {
   "cell_type": "markdown",
   "id": "b1c28229-4720-4bd1-b935-40eba9eb47b6",
   "metadata": {},
   "source": [
    "I can still make some more simplifications. Perceptrons generally process one data point at a time, so I can set $m=1$. Also, $b_n + w_{1\\, n} x_{i,1}$ is the same as prediction value $\\hat y_i$. So rewriting and rearranging, I have:"
   ]
  },
  {
   "cell_type": "markdown",
   "id": "bee7cb1d-264c-4e38-b8ff-51757514fe8f",
   "metadata": {},
   "source": [
    "$$\n",
    "b_{n+1} = b_n + 2\\eta (y_i - \\hat y_i) \\\\\n",
    "w_{1\\, n+1} = w_{1\\, n} + 2\\eta (y_i - \\hat y_i)x_{i,1}\n",
    "$$"
   ]
  },
  {
   "cell_type": "markdown",
   "id": "b732d0de-7240-447f-b975-c8a50cd30fd6",
   "metadata": {},
   "source": [
    "Since $\\eta$ is some small constant value, I can pretend that the $2$ is \"absorbed\" by $\\eta$ since I can set $\\eta$ to whatever value I want anyways. Now I have:"
   ]
  },
  {
   "cell_type": "markdown",
   "id": "6338b171-ad79-4d2d-a96c-1c4b602a260f",
   "metadata": {},
   "source": [
    "$$\n",
    "b_{n+1} = b_n + \\eta (y_i - \\hat y_i) \\\\\n",
    "w_{1\\, n+1} = w_{1\\, n} + \\eta (y_i - \\hat y_i)x_{i,1}\n",
    "$$"
   ]
  },
  {
   "cell_type": "markdown",
   "id": "71bbb58a-3f8d-44e5-b314-e7cfbfdac004",
   "metadata": {},
   "source": [
    "as formulas for updating the weights (weight in this case) and bias."
   ]
  },
  {
   "cell_type": "markdown",
   "id": "132f8bb4-6210-41ae-860f-5d79850c5d75",
   "metadata": {},
   "source": [
    "Now I have everything needed to code out a perceptron. The perceptron algorithm in words is as follows:\n",
    "1. Initialize the weights and bias to zero (or with random values, it doesn't really matter)\n",
    "2. Set the number of epochs\n",
    "3. Iterate through each epoch\n",
    "    1. For each epoch, randomly shuffle the order of data points in the dataset\n",
    "    2. Iterate through each point in the dataset\n",
    "        1. For each point, feed the $x_i$ value into the perceptron\n",
    "        2. Update the weights and the bias based on the values calculated from the gradient of the loss function"
   ]
  },
  {
   "cell_type": "markdown",
   "id": "53c10948-f0c8-4e9c-b1e7-fd3b8e2f4cc3",
   "metadata": {},
   "source": [
    "After enough epochs, the weights and bias values should converge onto some stable values."
   ]
  },
  {
   "cell_type": "code",
   "execution_count": 3,
   "id": "94e539fe-146d-4d42-8380-d42fdb56cdfa",
   "metadata": {},
   "outputs": [],
   "source": [
    "lr = 0.001\n",
    "\n",
    "class Perceptron():\n",
    "    def __init__(self, input_dataset):\n",
    "        self.dataset = input_dataset.copy()\n",
    "        self.num_features = len(input_dataset[0]) - 1\n",
    "        self.weights = [0] * self.num_features\n",
    "        self.bias = 0\n",
    "        self.activation_func = lambda x: x\n",
    "    \n",
    "    def shuffle_dataset(self):\n",
    "        random.shuffle(self.dataset)\n",
    "    \n",
    "    def process_one_point(self, data_point):\n",
    "        x = data_point[0:self.num_features]\n",
    "        y = data_point[len(data_point) - 1]\n",
    "        weighted_sum = sum([w_d * x_d for w_d, x_d in zip(self.weights, x)]) + self.bias\n",
    "        return x, y, self.activation_func(weighted_sum)\n",
    "    \n",
    "    def update_weights_bias(self, lr, x, y, y_hat):\n",
    "        self.weights = [w_d + lr * (y - y_hat) * x_d for w_d, x_d in zip(self.weights, x)]\n",
    "        self.bias += lr * (y - y_hat)\n",
    "    \n",
    "    def process_dataset(self, lr):\n",
    "        self.shuffle_dataset()\n",
    "        for data_point in self.dataset:\n",
    "            x, y, y_hat = self.process_one_point(data_point)\n",
    "            self.update_weights_bias(lr, x, y, y_hat)"
   ]
  },
  {
   "cell_type": "markdown",
   "id": "4a4069b5-fc68-4119-a5ac-97bafd379b71",
   "metadata": {},
   "source": [
    "Now that the structure of the perceptron is coded, I can train the perceptron to find a model for the dataset and then graph the result."
   ]
  },
  {
   "cell_type": "code",
   "execution_count": 4,
   "id": "3e887d48-5170-4677-a287-0e67cd4ac539",
   "metadata": {},
   "outputs": [],
   "source": [
    "p = Perceptron(dataset)\n",
    "for epoch in range(0, 100000):\n",
    "    p.process_dataset(lr)"
   ]
  },
  {
   "cell_type": "code",
   "execution_count": 5,
   "id": "2131f6e6-9732-483a-b0f1-dee70e316f93",
   "metadata": {},
   "outputs": [
    {
     "data": {
      "image/png": "[encoded data removed]",
      "text/plain": [
       "<Figure size 432x288 with 1 Axes>"
      ]
     },
     "metadata": {
      "needs_background": "light"
     },
     "output_type": "display_data"
    },
    {
     "name": "stdout",
     "output_type": "stream",
     "text": [
      "Weight Vector: [-0.8546742291537157]\n",
      "Bias: 2.560876320399005\n",
      "Residual Sum of Squares: 5.467462560012633\n"
     ]
    }
   ],
   "source": [
    "plt.title(\"Optimal Line for Dataset\")\n",
    "plt.xlabel(\"Variable 1 Observations\")\n",
    "plt.ylabel(\"Variable 2 Observations\")\n",
    "plt.scatter(x=[p[0] for p in dataset], y=[p[1] for p in dataset])\n",
    "plt.axline(\n",
    "    (dataset[0][0], p.weights[0] * dataset[0][0] + p.bias),\n",
    "    (dataset[1][0], p.weights[0] * dataset[1][0] + p.bias)\n",
    ")\n",
    "plt.show()\n",
    "\n",
    "print(\"Weight Vector:\", p.weights)\n",
    "print(\"Bias:\", p.bias)\n",
    "print(\"Residual Sum of Squares:\", sum([(y_i - p.bias - p.weights[0] * x_i)**2 for x_i, y_i in dataset]))"
   ]
  },
  {
   "cell_type": "markdown",
   "id": "7add9a5b-63be-4a9f-a8c2-1146c3078100",
   "metadata": {
    "tags": []
   },
   "source": [
    "### PyTorch Implementation"
   ]
  },
  {
   "cell_type": "markdown",
   "id": "b16ae1b4-3067-4ede-a532-23499e4266e6",
   "metadata": {},
   "source": [
    "I can implement a perceptron using PyTorch. I try to structure the PyTorch model such that it is similar to the way I coded the perceptron from scratch above. This is just so I can attempt to understand a bit about what PyTorch is doing."
   ]
  },
  {
   "cell_type": "code",
   "execution_count": 6,
   "id": "1a0104cd-5da6-4871-8c2b-b1121357d5ee",
   "metadata": {},
   "outputs": [
    {
     "name": "stdout",
     "output_type": "stream",
     "text": [
      "Weight: -0.8551109433174133\n",
      "Bias: 2.559089422225952\n"
     ]
    }
   ],
   "source": [
    "class Perceptron(nn.Module):\n",
    "    def __init__(self):\n",
    "        super(Perceptron, self).__init__()\n",
    "        #define a linear layer with # of features as input (one in this case) and one output (and with a bias value)\n",
    "        self.ws = nn.Linear(1, 1, bias=True)\n",
    "        #define a linear layer for the activation function\n",
    "        self.af = nn.Identity()\n",
    "    \n",
    "    def forward(self, x):\n",
    "        ws_output = self.ws(x) #feed input data into the linear layer and store the weighted sum as a variable\n",
    "        af_out = self.af(ws_output) #send the weighted sum through an activation function\n",
    "        return af_out #return final output\n",
    "\n",
    "p = Perceptron()\n",
    "\n",
    "#prepare dataset\n",
    "xs, ys = torch.split(torch.tensor(dataset), 1, dim=1)\n",
    "\n",
    "#define measure of loss and how weights should be updated\n",
    "criterion = nn.MSELoss()\n",
    "optimizer = torch.optim.SGD(p.parameters(), lr=0.001)\n",
    "\n",
    "#train dataset\n",
    "for epoch in range(0, 10000):\n",
    "    for i in range(0, len(dataset)):\n",
    "        #plug in input and get predicted output\n",
    "        y_hat = p(xs[i])\n",
    "        \n",
    "        #calculate the loss (the measure between expected output and predicted output)\n",
    "        loss = criterion(ys[i], y_hat)\n",
    "\n",
    "        #backpropagation step\n",
    "        optimizer.zero_grad() #sets the gradients of all optimized torch.Tensors to zero\n",
    "        loss.backward() #calculate the gradient of the loss function\n",
    "        optimizer.step() #update the weights and bias\n",
    "\n",
    "print(\"Weight:\", p.ws.weight.item())\n",
    "print(\"Bias:\", p.ws.bias.item())"
   ]
  },
  {
   "cell_type": "markdown",
   "id": "0b015621-4a85-4dbe-a424-7a4003c492cc",
   "metadata": {},
   "source": [
    "Though the code above helps me relate elements to the perceptron I coded from scratch, there are a couple of simplifications I should make to the PyTorch code. I can eliminate the identity linear layer as it doesn't transform my weighted sum at all. The PyTorch is also smart enough to process the whole input dataset at once - I don't need an inner for loop to feed the model every individual point."
   ]
  },
  {
   "cell_type": "code",
   "execution_count": 7,
   "id": "42344ed9-f352-4d87-9713-960b0dc52940",
   "metadata": {},
   "outputs": [],
   "source": [
    "class Perceptron(nn.Module):\n",
    "    def __init__(self):\n",
    "        super(Perceptron, self).__init__()\n",
    "        self.ws = nn.Linear(1, 1, bias=True)\n",
    "    \n",
    "    def forward(self, x):\n",
    "        return self.ws(x)\n",
    "\n",
    "p = Perceptron()\n",
    "\n",
    "xs, ys = torch.split(torch.tensor(dataset), 1, dim=1)\n",
    "\n",
    "criterion = nn.MSELoss()\n",
    "optimizer = torch.optim.SGD(p.parameters(), lr=0.001)\n",
    "\n",
    "for epoch in range(0, 100000):\n",
    "    y_hat = p(xs)\n",
    "\n",
    "    loss = criterion(ys, y_hat)\n",
    "\n",
    "    optimizer.zero_grad()\n",
    "    loss.backward()\n",
    "    optimizer.step()"
   ]
  },
  {
   "cell_type": "markdown",
   "id": "8823616b-9074-4964-b878-b5d1185088e4",
   "metadata": {},
   "source": [
    "Now I can graph the line that the PyTorch perceptron came up with:"
   ]
  },
  {
   "cell_type": "code",
   "execution_count": 8,
   "id": "ffc3c43e-6d34-4339-b905-9052ac577e25",
   "metadata": {},
   "outputs": [
    {
     "data": {
      "image/png": "[encoded data removed]",
      "text/plain": [
       "<Figure size 432x288 with 1 Axes>"
      ]
     },
     "metadata": {
      "needs_background": "light"
     },
     "output_type": "display_data"
    },
    {
     "name": "stdout",
     "output_type": "stream",
     "text": [
      "Weight: -0.8544847369194031\n",
      "Bias: 2.5609138011932373\n",
      "Residual Sum of Squares: 5.467461935727148\n"
     ]
    }
   ],
   "source": [
    "plt.title(\"Optimal Line for Dataset\")\n",
    "plt.xlabel(\"Variable 1 Observations\")\n",
    "plt.ylabel(\"Variable 2 Observations\")\n",
    "plt.scatter(x=[p[0] for p in dataset], y=[p[1] for p in dataset])\n",
    "plt.axline(\n",
    "    (dataset[0][0], p.ws.weight.item() * dataset[0][0] + p.ws.bias.item()),\n",
    "    (dataset[1][0], p.ws.weight.item() * dataset[1][0] + p.ws.bias.item())\n",
    ")\n",
    "plt.show()\n",
    "\n",
    "print(\"Weight:\", p.ws.weight.item())\n",
    "print(\"Bias:\", p.ws.bias.item())\n",
    "print(\"Residual Sum of Squares:\", sum([(y_i - p.ws.bias.item() - p.ws.weight.item() * x_i)**2 for x_i, y_i in dataset]))"
   ]
  },
  {
   "cell_type": "markdown",
   "id": "6a60ec6c-f159-4272-bbff-c8d768ca5aa7",
   "metadata": {},
   "source": [
    "## Binary Classification"
   ]
  },
  {
   "cell_type": "markdown",
   "id": "79ccb04e-75fa-4ea2-bc3c-c1be8413396b",
   "metadata": {},
   "source": [
    "Consider this problem: I have a collection of data points that can be graphed on a two-dimensional Cartesian coordinate plane. Each point has two feature values: an $x_1$ value and an $x_2$ value, and a classfication label. There are only two labels, meaning points fall into one class or the other. This type of problem I'm presenting is known as a **binary classification** problem. I also assume here that the data here is **lineary seperable**, meaning the two classfications of observed and unobserved data points can be divided cleanly and completely with a straight line. The goal is to find the equation for a line that does just this. A perceptron can be used to solve this problem."
   ]
  },
  {
   "cell_type": "markdown",
   "id": "e3e97366-3c80-4cf0-a64a-a94526adc9c5",
   "metadata": {},
   "source": [
    "Assume I have already collected a small sample of data points. The data is graphed below:"
   ]
  },
  {
   "cell_type": "code",
   "execution_count": 9,
   "id": "59abd20c-a12c-4c52-bf74-303c268bd68f",
   "metadata": {},
   "outputs": [],
   "source": [
    "X1_LOWER_BOUND = -10\n",
    "X1_UPPER_BOUND = 10\n",
    "NUM_SAMPLES = 10\n",
    "TRUE_BOUNDARY_FUNCTION = lambda x1: 1.5 * x1 + 0.5 #same as 3x1 - 2x2 + 1 = 0\n",
    "X2_LOWER_BOUND = min(TRUE_BOUNDARY_FUNCTION(X1_LOWER_BOUND), TRUE_BOUNDARY_FUNCTION(X1_UPPER_BOUND))\n",
    "X2_UPPER_BOUND = max(TRUE_BOUNDARY_FUNCTION(X1_LOWER_BOUND), TRUE_BOUNDARY_FUNCTION(X1_UPPER_BOUND))"
   ]
  },
  {
   "cell_type": "code",
   "execution_count": 10,
   "id": "30911cab-41a1-41e9-801e-ef73543b0d85",
   "metadata": {},
   "outputs": [
    {
     "data": {
      "image/png": "[encoded data removed]",
      "text/plain": [
       "<Figure size 432x288 with 1 Axes>"
      ]
     },
     "metadata": {
      "needs_background": "light"
     },
     "output_type": "display_data"
    }
   ],
   "source": [
    "#generate samples\n",
    "samples = [\n",
    "    (random.uniform(X1_LOWER_BOUND, X1_UPPER_BOUND), random.uniform(X2_LOWER_BOUND, X2_UPPER_BOUND))\n",
    "    for i in range(0, NUM_SAMPLES)\n",
    "]\n",
    "true_classifications = [1 if samples[i][1] > TRUE_BOUNDARY_FUNCTION(samples[i][0]) else 0 for i in range(0, NUM_SAMPLES)]\n",
    "\n",
    "#graph samples\n",
    "plt.grid()\n",
    "plt.axhline(0, color=\"black\")\n",
    "plt.axvline(0, color=\"black\")\n",
    "plt.xlim([X1_LOWER_BOUND, X1_UPPER_BOUND])\n",
    "plt.ylim([X2_LOWER_BOUND, X2_UPPER_BOUND])\n",
    "plt.axline(\n",
    "    (X1_LOWER_BOUND, TRUE_BOUNDARY_FUNCTION(X1_LOWER_BOUND)),\n",
    "    (X1_UPPER_BOUND, TRUE_BOUNDARY_FUNCTION(X1_UPPER_BOUND)),\n",
    "    color='black',\n",
    "    label='True Boundary'\n",
    ")\n",
    "for i in range(0, NUM_SAMPLES):\n",
    "    plt.plot(samples[i][0], samples[i][1], color=\"black\", marker=\".\" if true_classifications[i] == 0 else \"x\")\n",
    "plt.legend()\n",
    "plt.show()"
   ]
  },
  {
   "cell_type": "markdown",
   "id": "1a68975a-1a86-4504-aaf3-c5bf0dff7d33",
   "metadata": {},
   "source": [
    "The black line represents the \"true\" boundary - the (typically unknown) line/hyperplane that divides the space into two distinct regions/classes. As I can see from the graph above, points on one side of the line are marked with x's and points on the other side of the line are marked with dots. This boundary is typically written in the form of $\\beta_0 + \\beta_1x_1 + \\beta_2x_2 = 0$ where $\\beta_i$ values are the true values of the boundary line and $x_i$ values are the inputs for the feature values. In the code above, I rearranged the equation to express the value of $x_2$ in terms of $x_1$. I also technically defined the boundary such that points that satisfy $\\beta_0 + \\beta_1x_1 + \\beta_2x_2 > 0$ are x's and $\\beta_0 + \\beta_1x_1 + \\beta_2x_2 \\leq 0$ are dots in the code above."
   ]
  },
  {
   "cell_type": "markdown",
   "id": "cea37166-e687-4f02-b157-f2f75c943bc5",
   "metadata": {},
   "source": [
    "Since I don't actually know what the equation for the true boundary line is, I need to train a perceptron to figure that out for me. In linear least squares, I needed to find the perceptron's weights and the bias values that minimize the squared distances between my input data points and my regression line. This would give me the best fit line. Again in this problem, I need to get the equation of a line/hyperplane, but unlike linear regression, it's not about finding the best fit line that best fits the data. It's about finding a line that cuts the space into two sections."
   ]
  },
  {
   "cell_type": "markdown",
   "id": "e27c7e57-69a4-4d96-8a84-cee65a989b57",
   "metadata": {},
   "source": [
    "As before, the main things needed to consider when training a perceptron are its weight values, bias value, activation function, and a loss function to measure the perceptron's performance. The activation function and loss function ultimately determine what weight and bias values I end up with, so let me formulate what those should look like."
   ]
  },
  {
   "cell_type": "markdown",
   "id": "95ef6971-45d3-4c26-a086-ebffa463e0a1",
   "metadata": {},
   "source": [
    "The loss function for linear regression was pretty straightforward. By attempting to minimize the mean squared distances between my points and the line, I could train the perceptron to find the parameters for the line that produces the smallest loss value. For a binary classification problem, my loss function will look a bit different."
   ]
  },
  {
   "cell_type": "markdown",
   "id": "3e99260a-d3a6-4b45-8a96-789b71baeaef",
   "metadata": {},
   "source": [
    "In binary classification, I only have two output $y$ values (unlike $y$ values in regression, which can take on any number in $\\mathbb R$). A point marked with an x is represented with a value of $y=1$ and point marked with a dot is represented with a value of $y=0$. The perceptron must also only have two outputs, either $1$ or $0$."
   ]
  },
  {
   "cell_type": "markdown",
   "id": "496003a8-45a7-4e76-b1cc-0ef7614f17f1",
   "metadata": {},
   "source": [
    "When calculating the difference between a true and a predicted classification, there are only four possible difference combinations. They are:"
   ]
  },
  {
   "cell_type": "markdown",
   "id": "75f4d599-7add-4763-8083-e6a5981e643d",
   "metadata": {},
   "source": [
    "$$\n",
    "0 - 0 = 0 \\\\\n",
    "1 - 1 = 0 \\\\\n",
    "0 - 1 = -1 \\\\\n",
    "1 - 0 = 1\n",
    "$$"
   ]
  },
  {
   "cell_type": "markdown",
   "id": "a06bf6e8-ca1b-4e28-9020-c94ab65fcc52",
   "metadata": {},
   "source": [
    "Just as in linear least squares, the loss function to I need to minimize is the sum of squared differences between the true and the predicted value for each point:"
   ]
  },
  {
   "cell_type": "markdown",
   "id": "2b9e60d9-a616-489f-86bf-3dd4ea6b5205",
   "metadata": {},
   "source": [
    "$$\n",
    "MSE = \\frac{1}{n} \\sum\\limits_{i = 1}^{n} (y_i - \\hat y_i)^2\n",
    "$$"
   ]
  },
  {
   "cell_type": "markdown",
   "id": "a329b0ed-365e-451f-917f-a899dfdf43d4",
   "metadata": {},
   "source": [
    "I can't just set the loss as something like $y - \\hat y$ because the sum of misclassfied values $0-1=-1$ and $1-0=1$ would just cancel each other out. I could take the absolute value of each difference but the absolute value function does not have a nice derivative. Squaring each term in this case actually produces the exact same loss if I was using absolute value except squares have nicer derivatives. Taking the mean of the sum of squared differences is not really necessary, but it allows for more generalization since it scales the sum of squares by the number of data points. Also, it only scales the total loss by some constant value and does not have any effect on the values needed to minimize the loss function."
   ]
  },
  {
   "cell_type": "markdown",
   "id": "7b23c73f-8266-4963-a03e-0bfc0a159521",
   "metadata": {},
   "source": [
    "Reminder that inside the perceptron, I have weights and a bias that represent a boundary line/hyperplane:"
   ]
  },
  {
   "cell_type": "markdown",
   "id": "59edf394-f02e-4188-897a-a707b23d7f0a",
   "metadata": {},
   "source": [
    "$$\n",
    "b + w_1 x_1 + w_2 x_2 + \\ldots + w_d x_d = 0\n",
    "$$"
   ]
  },
  {
   "cell_type": "markdown",
   "id": "1676ddf1-ab5f-429a-804d-0bf002d3a669",
   "metadata": {},
   "source": [
    "When I plug in some input $x$ from my dataset and compute the weighted sum, I will get an output value that is either on one side of the line (positive), the other side of the line (negative), or on the line (0). Earlier, I stated that I defined the true boundary line such that points that satisfy $\\beta_0 + \\beta_1x_1 + \\beta_2x_2 > 0$ are x's and $\\beta_0 + \\beta_1x_1 + \\beta_2x_2 \\leq 0$ are dots in the code above and so similarly, points that satisfy $b + w_1 x_1 + w_2 x_2 > 0$ are x's (class $1$) and $b + w_1 x_1 + w_2 x_2 \\leq 0$ are dots (class $0$)."
   ]
  },
  {
   "cell_type": "markdown",
   "id": "5333b9a0-b480-42bb-a804-e605e85b640a",
   "metadata": {},
   "source": [
    "So I need to transform the output of the weighted sum so that it always maps to either $0$ or $1$. I can set my activation function as one variant of the **Heaviside step function**:"
   ]
  },
  {
   "cell_type": "markdown",
   "id": "ec39c95b-9cf9-44b9-b862-80d75d23878a",
   "metadata": {},
   "source": [
    "$$\n",
    "H(x) =\n",
    "\\begin{cases}\n",
    "1 & \\text{if } x > 0 \\\\\n",
    "0 & \\text{if } x \\leq 0\n",
    "\\end{cases}\n",
    "$$"
   ]
  },
  {
   "cell_type": "markdown",
   "id": "9c5026cc-7a09-4e59-89e8-aef1ca9efa4e",
   "metadata": {},
   "source": [
    "So now I can write down my loss function that I need to minimize as:"
   ]
  },
  {
   "cell_type": "markdown",
   "id": "0f324b0a-cbd9-4074-8f3b-5e1438493514",
   "metadata": {},
   "source": [
    "$$\n",
    "MSE = \\frac{1}{n} \\sum\\limits_{i = 1}^{n} (y_i - H(b + w_1 x_{i,1} + w_2 x_{i,2}))^2\n",
    "$$"
   ]
  },
  {
   "cell_type": "markdown",
   "id": "dbb69348-bafd-464d-be9d-4aa5c9e93190",
   "metadata": {},
   "source": [
    "The problem here though is that the Heaviside step function is a piecewise function that is not continous - it is not differentiable at $x=0$. Everything I've done up to this point requires taking first-order derivatives in order to find to find the values that minimize the loss function. So unfortunately, it would be too difficult for me to optimize this function that contains the Heaviside step function. I need a differentiable function that is similar to the step function."
   ]
  },
  {
   "cell_type": "markdown",
   "id": "ad535d15-4541-4132-9de9-69393c0b40e9",
   "metadata": {},
   "source": [
    "This differentiable function I need must satisfy some conditions:\n",
    "1. The $y$ domain must be defined everywhere for all values in the $x$ domain\n",
    "2. There must be no points of discontinuity and no vertical asymptotes ($x$ equals some constant)\n",
    "3. There must be two horizontal asymptotes: one at $y=0$ when $x\\to-\\infty$ and one at $y=1$ when $x\\to\\infty$\n",
    "4. The function must \"switch\" from \"off\" ($0$) to \"on\" ($1$) at around $x=0$"
   ]
  },
  {
   "cell_type": "markdown",
   "id": "55a8a4af-a400-4fc6-bba0-a74c1ef95cf6",
   "metadata": {},
   "source": [
    "Let me graph some basic functions and see how I can maniuplate them to fit my needs:"
   ]
  },
  {
   "cell_type": "code",
   "execution_count": 11,
   "id": "58121090-e1cb-468d-be5c-28ce94b8e363",
   "metadata": {},
   "outputs": [
    {
     "data": {
      "image/png": "[encoded data removed]",
      "text/plain": [
       "<Figure size 432x288 with 1 Axes>"
      ]
     },
     "metadata": {
      "needs_background": "light"
     },
     "output_type": "display_data"
    }
   ],
   "source": [
    "plt.grid()\n",
    "plt.axhline(0, color=\"black\")\n",
    "plt.axvline(0, color=\"black\")\n",
    "plt.xlim([-10, 10])\n",
    "plt.ylim([-5, 10])\n",
    "plt.plot(np.linspace(-10, 10, 1000), np.linspace(-10, 10, 1000), label=\"y = x\")\n",
    "plt.plot(np.linspace(-10, 10, 1000), np.linspace(-10, 10, 1000)**2, label=\"y = x^2\")\n",
    "plt.plot(np.linspace(0, 10, 500), np.linspace(0, 10, 500)**(1/2), label=\"y = x^(1/2)\")\n",
    "plt.plot(np.linspace(0.00001, 10, 500), np.log(np.linspace(0.00001, 10, 500)), label=\"y = ln(x)\")\n",
    "plt.plot(np.linspace(-10, 10, 1000), np.exp(np.linspace(-10, 10, 1000)), label=\"y = e^x\")\n",
    "plt.legend()\n",
    "plt.show()"
   ]
  },
  {
   "cell_type": "markdown",
   "id": "0329a32c-1ec7-4795-9ed0-aa002897c607",
   "metadata": {},
   "source": [
    "Of these basic functions I graphed, $\\ln(x)$ and its inverse $e^x$ seem to have the most potential as a basis for creating an approximated Heavisde step function."
   ]
  },
  {
   "cell_type": "markdown",
   "id": "284ebf9c-96c7-465b-98fe-7a060b5a366d",
   "metadata": {},
   "source": [
    "$y=e^x$ is already bounded by $y=0$. I can rewrite $y=e^x$ as $y=\\frac{1}{e^{-x}}$ Looking at the behavior of this function, as the $x$ goes to infinity, the term $e^{-x}$ goes to $0$ and so the fraction $\\frac{1}{e^{-x}}$ approaches infinity. However, If I add a $+1$ to the denominator of the fraction, then, the function will approach $\\frac{1}{1}$ or just $1$ when $x\\to\\infty$."
   ]
  },
  {
   "cell_type": "code",
   "execution_count": 12,
   "id": "aa888b4a-d165-4bda-ad8b-1cc130b9a524",
   "metadata": {},
   "outputs": [
    {
     "data": {
      "image/png": "[encoded data removed]",
      "text/plain": [
       "<Figure size 432x288 with 1 Axes>"
      ]
     },
     "metadata": {
      "needs_background": "light"
     },
     "output_type": "display_data"
    }
   ],
   "source": [
    "plt.grid()\n",
    "plt.axhline(0, color=\"black\")\n",
    "plt.axvline(0, color=\"black\")\n",
    "plt.xlim([-10, 10])\n",
    "plt.ylim([-1, 2])\n",
    "x = np.linspace(-10, 10, 1000)\n",
    "y = 1 / (1 + math.e**(-1 * x))\n",
    "plt.plot(np.linspace(-10, 10, 1000), y, label=\"y = 1 / (1 + e^(-x))\")\n",
    "plt.legend()\n",
    "plt.show()"
   ]
  },
  {
   "cell_type": "markdown",
   "id": "f403b524-049d-4a71-be4d-1d1166955b78",
   "metadata": {},
   "source": [
    "This is a type of **sigmoid function** known as a **logistic function**. If I instead use a really big number for the base of the exponent rather than $e$, I can get a pretty good approximation for the Heaviside step function:"
   ]
  },
  {
   "cell_type": "code",
   "execution_count": 13,
   "id": "e82e1303-e8b3-4b8d-a3f9-8467a558061a",
   "metadata": {},
   "outputs": [
    {
     "data": {
      "image/png": "[encoded data removed]",
      "text/plain": [
       "<Figure size 432x288 with 1 Axes>"
      ]
     },
     "metadata": {
      "needs_background": "light"
     },
     "output_type": "display_data"
    }
   ],
   "source": [
    "plt.grid()\n",
    "plt.axhline(0, color=\"black\")\n",
    "plt.axvline(0, color=\"black\")\n",
    "plt.xlim([-10, 10])\n",
    "plt.ylim([-1, 2])\n",
    "x = np.linspace(-10, 10, 1000)\n",
    "y = 1 / (1 + 100000000000**(-1 * x))\n",
    "plt.plot(np.linspace(-10, 10, 1000), y, label=\"y = 1 / (1 + 100000000000^(-x))\")\n",
    "plt.legend()\n",
    "plt.show()"
   ]
  },
  {
   "cell_type": "markdown",
   "id": "8decc4ab-d743-4621-8dc2-a929db22dd56",
   "metadata": {},
   "source": [
    "Even though visually it looks like having a large base value would make for a better approximation, it turns out that it doesn't actually really matter how steep the function is - the math works out (for the most part) regardless of steepness."
   ]
  },
  {
   "cell_type": "markdown",
   "id": "a5d93a24-c327-46c2-8cec-e4005025721e",
   "metadata": {},
   "source": [
    "Remember that when I defined the problem, I stated that the data points must be linearly separable. If even one point is misclassified, I can expect the error between the true and the predicted to have a value that is at least $>0.5$. If that point ends up being classified correctly, the error between the true and the predicted should have a value $<0.5$. So total loss, which is the sum of all these smaller losses, should always be smaller when the points are classified correctly. Since I defined the problem to have linear separability, there must exist a solution that linearly separates the space and classifies all the points correctly. If a point manages to land right in the middle of the sigmoid at a value of $0.5$, it technically means that the computer doesn't know which class the point falls into. Of course, this scenerio can happen when you have an infinite number of input data points to cover the whole Cartesian space, which is unrealistic and woud never happen in a real-world scenario, or if the computer runs out of significant digits needed to classify the point correctly, which is an extreme that I don't really care about right now."
   ]
  },
  {
   "cell_type": "markdown",
   "id": "3aaf18b8-bd0f-407c-9641-1c42de4398bb",
   "metadata": {},
   "source": [
    "So given that it doesn't matter for the most part which variation of steepness I can use as my activation function, I'll choose to use:"
   ]
  },
  {
   "cell_type": "markdown",
   "id": "81a43957-a0db-4c6c-94e7-1ace0dd0746a",
   "metadata": {},
   "source": [
    "$$\\frac{1}{1+e^{-x}}$$"
   ]
  },
  {
   "cell_type": "markdown",
   "id": "7c7b96c7-4d0b-4888-ab8b-995903e0f117",
   "metadata": {},
   "source": [
    "as my activation function and the one I use to calculate loss because taking the first-order derivative of this function is a lot nicer than if the base in this function was not $e$."
   ]
  },
  {
   "cell_type": "markdown",
   "id": "50477dc1-8c27-4c12-a35d-a622dafd39c0",
   "metadata": {},
   "source": [
    "$$\n",
    "\\frac{d}{dx} \\frac{1}{1+e^{-x}} = \\frac{d}{dx} \\frac{e^x}{1+e^x} = \\frac{e^{-x}}{(1+e^{-x})^2} = \\frac{e^x}{(1+e^x)^2}\n",
    "$$"
   ]
  },
  {
   "cell_type": "markdown",
   "id": "da226ce2-362f-4eb5-9e8f-9c13b3386fb6",
   "metadata": {},
   "source": [
    "Great! So now I can use the logistic function as my activation function that transforms the output of my weighted sum. I can rewrite my $MSE$ loss as:"
   ]
  },
  {
   "cell_type": "markdown",
   "id": "4b3b7bbc-cec9-42a6-b2f9-9531661a491b",
   "metadata": {},
   "source": [
    "$$\n",
    "MSE = \\frac{1}{n} \\sum\\limits_{i = 1}^{n} \\left(y_i - \\frac{1}{1 + e^{-(b + w_1 x_{i,1} + w_2 x_{i,2})}}\\right)^2\n",
    "$$"
   ]
  },
  {
   "cell_type": "markdown",
   "id": "98783638-b5c3-4716-9fd3-8a1e535ea98c",
   "metadata": {},
   "source": [
    "and I can actually find the first-order partial derivatives of this function."
   ]
  },
  {
   "cell_type": "markdown",
   "id": "3849ba9a-99a9-42a6-adda-64f182314b71",
   "metadata": {},
   "source": [
    "There is one more thing important thing to be aware of. My original approach was to use gradient descent to find the point of smallest loss, but minimizing a function using gradient descent only really works for convex functions. In least squares linear regression, my $MSE$ function took that of a parabolic shape and so there was always a guaranteed minimum point to work towards. This $MSE$ function has a sigmoidal \"S\" shape, and doesn't have a true minimum point. A gradient descent algorithm will keep going in the direction of $0$ for every iteration, but it will never converge onto a constant set of weights $w$ and bias $b$."
   ]
  },
  {
   "cell_type": "markdown",
   "id": "d4df9715-8051-4bb5-b86a-9fd906927198",
   "metadata": {},
   "source": [
    "The problem I presented above is an important component of understanding why the **vanishing gradient** problem occurs and it is a problem that must be addressed when constructing deep neural networks (which I will get into a bit right now, but not too much). Luckily for me, my neural network only consists of one node so this problem is unlikely <span style=\"color:red\">(or impossible? I'm not really sure as of now)</span> to happen."
   ]
  },
  {
   "cell_type": "markdown",
   "id": "f8f81021-c443-41dd-948d-0bf96a21781c",
   "metadata": {},
   "source": [
    "I can either run the algorithm a set number of epochs as usual, or I can keep it running until the weights+bias values do not update anymore. If I keep iterating until the weights and bias no longer change with each iteration, then the only thing left to do is just test the performance of the perceptron. At this point, if the model classifies all the points in my dataset correctly, then everything is fine, I have a working model. If not, then I have experienced the vanishing gradient problem. This is because the magnitude of the gradient gets so small it has no effect on changing the weights+bias. This due to the nature of the sigmoid function and/or the fact computers that can't hold numbers that small in memory."
   ]
  },
  {
   "cell_type": "markdown",
   "id": "8263185b-a483-4313-9ad3-51ce939953f6",
   "metadata": {},
   "source": [
    "So let me go ahead and write out the gradient for by sigmoid based $MSE$ loss function and derive the weight+bias update formulas from the gradient:"
   ]
  },
  {
   "cell_type": "markdown",
   "id": "d6b3d249-fc7b-41e0-9e2b-7b057a15fefd",
   "metadata": {},
   "source": [
    "$$\n",
    "\\nabla MSE =\n",
    "\\begin{bmatrix}\n",
    "    MSE_{b} \\\\\n",
    "    MSE_{w_1} \\\\\n",
    "    MSE_{w_2}\n",
    "\\end{bmatrix}\n",
    "=\n",
    "\\begin{bmatrix}\n",
    "    \\frac{1}{n} \\sum\\limits_{i = 1}^{n} -2\\left(y_i - \\frac{1}{1+e^{-(b + w_1 x_{i,1} + w_2 x_{i,2})}}\\right)\\left(\\frac{e^{-(b + w_1 x_{i,1} + w_2 x_{i,2})}}{(1+e^{-(b + w_1 x_{i,1} + w_2 x_{i,2})})^2}\\right) \\\\\n",
    "    \\frac{1}{n} \\sum\\limits_{i = 1}^{n} -2 x_{i,1} \\left(y_i - \\frac{1}{1+e^{-(b + w_1 x_{i,1} + w_2 x_{i,2})}}\\right)\\left(\\frac{e^{-(b + w_1 x_{i,1} + w_2 x_{i,2})}}{(1+e^{-(b + w_1 x_{i,1} + w_2 x_{i,2})})^2}\\right) \\\\\n",
    "    \\frac{1}{n} \\sum\\limits_{i = 1}^{n} -2 x_{i,2} \\left(y_i - \\frac{1}{1+e^{-(b + w_1 x_{i,1} + w_2 x_{i,2})}}\\right)\\left(\\frac{e^{-(b + w_1 x_{i,1} + w_2 x_{i,2})}}{(1+e^{-(b + w_1 x_{i,1} + w_2 x_{i,2})})^2}\\right)\n",
    "\\end{bmatrix}\n",
    "$$\n",
    "$$\n",
    "b_{n+1} = b_n - \\eta MSE_{b}(b_n, w_{1\\, n}, w_{2\\, n}) = b_n - \\eta\\left(\\frac{1}{m} \\sum\\limits_{i = 1}^{m} -2\\left(y_i - \\frac{1}{1+e^{-(b_n + w_{1\\, n} x_{i,1} + w_{2\\, n} x_{i,2})}}\\right)\\left(\\frac{e^{-(b_n + w_{1\\, n} x_{i,1} + w_{2\\, n} x_{i,2})}}{(1+e^{-(b_n + w_{1\\, n} x_{i,1} + w_{2\\, n} x_{i,2})})^2}\\right)\\right) \\\\\n",
    "w_{1\\, n+1} = w_{1\\, n} - \\eta MSE_{w_1}(b_n, w_{1\\, n}, w_{2\\, n}) = w_{1\\, n} - \\eta\\left(\\frac{1}{m} \\sum\\limits_{i = 1}^{m} -2 x_{i,1} \\left(y_i - \\frac{1}{1+e^{-(b_n + w_{1\\, n} x_{i,1} + w_{2\\, n} x_{i,2})}}\\right)\\left(\\frac{e^{-(b_n + w_{1\\, n} x_{i,1} + w_{2\\, n} x_{i,2})}}{(1+e^{-(b_n + w_{1\\, n} x_{i,1} + w_{2\\, n} x_{i,2})})^2}\\right)\\right) \\\\\n",
    "w_{2\\, n+1} = w_{2\\, n} - \\eta MSE_{w_2}(b_n, w_{1\\, n}, w_{2\\, n}) = w_{2\\, n} - \\eta\\left(\\frac{1}{m} \\sum\\limits_{i = 1}^{m} -2 x_{i,2} \\left(y_i - \\frac{1}{1+e^{-(b_n + w_{1\\, n} x_{i,1} + w_{2\\, n} x_{i,2})}}\\right)\\left(\\frac{e^{-(b_n + w_{1\\, n} x_{i,1} + w_{2\\, n} x_{i,2})}}{(1+e^{-(b_n + w_{1\\, n} x_{i,1} + w_{2\\, n} x_{i,2})})^2}\\right)\\right)\n",
    "$$"
   ]
  },
  {
   "cell_type": "markdown",
   "id": "771f0e19-c542-44f7-94da-a623fc2b84d9",
   "metadata": {},
   "source": [
    "Like before, set $m=1$, use predicted value $\\hat y_i$ in the formulas, and let $\\eta$ \"absorb\" the factor of $2$:"
   ]
  },
  {
   "cell_type": "markdown",
   "id": "d65b1ba6-a227-4284-bd4d-48c81dc228ea",
   "metadata": {},
   "source": [
    "$$\n",
    "b_{n+1} = b_n + \\eta (y_i - \\hat y_i)\\left(\\frac{{\\hat y_i}^2}{e^{b_n + w_{1\\, n} x_{i,1} + w_{2\\, n} x_{i,2}}}\\right) \\\\\n",
    "w_{1\\, n+1} = w_{1\\, n} + \\eta (y_i - \\hat y_i)\\left(\\frac{{\\hat y_i}^2}{e^{b_n + w_{1\\, n} x_{i,1} + w_{2\\, n} x_{i,2}}}\\right)x_{i,1} \\\\\n",
    "w_{2\\, n+1} = w_{2\\, n} + \\eta (y_i - \\hat y_i)\\left(\\frac{{\\hat y_i}^2}{e^{b_n + w_{1\\, n} x_{i,1} + w_{2\\, n} x_{i,2}}}\\right)x_{i,2}\n",
    "$$"
   ]
  },
  {
   "cell_type": "markdown",
   "id": "ea0f8e8d-45ea-4534-b665-2042ca6864a8",
   "metadata": {},
   "source": [
    "Like before, now I have everything needed to code out the perceptron. Once again, the perceptron algorithm in words is:\n",
    "1. Initialize the weights and bias to zero (or with random values, it doesn't really matter)\n",
    "2. Set the number of epochs\n",
    "3. Iterate through each epoch\n",
    "    1. For each epoch, randomly shuffle the order of data points in the dataset\n",
    "    2. Iterate through each point in the dataset\n",
    "        1. For each point, feed the $x_i$ value into the perceptron\n",
    "        3. Update the weights and the bias based on the values calculated from the gradient of the loss function"
   ]
  },
  {
   "cell_type": "code",
   "execution_count": 14,
   "id": "df902d0c-8df9-4f8c-ba24-9422f1fbdfbe",
   "metadata": {},
   "outputs": [],
   "source": [
    "lr = 0.001\n",
    "\n",
    "class Perceptron():\n",
    "    def __init__(self, input_dataset, classifications):\n",
    "        self.dataset = input_dataset.copy()\n",
    "        self.true_labels = classifications.copy()\n",
    "        self.num_features = len(input_dataset[0])\n",
    "        self.weights = [0] * self.num_features\n",
    "        self.bias = 0\n",
    "        self.activation_func = lambda x: 1 / (1 + math.e**(-1 * x))\n",
    "    \n",
    "    def shuffle_dataset(self):\n",
    "        zipped_dataset = list(zip(self.dataset, self.true_labels))\n",
    "        random.shuffle(zipped_dataset)\n",
    "        self.dataset, self.true_labels = zip(*zipped_dataset)\n",
    "    \n",
    "    def process_one_point(self, data_point, label):\n",
    "        x = data_point\n",
    "        y = label\n",
    "        weighted_sum = sum([w_d * x_d for w_d, x_d in zip(self.weights, x)]) + self.bias\n",
    "        return x, y, self.activation_func(weighted_sum)\n",
    "    \n",
    "    def update_weights_bias(self, lr, x, y, y_hat):\n",
    "        weighted_sum = sum([w_d * x_d for w_d, x_d in zip(self.weights, x)]) + self.bias\n",
    "        self.weights = [w_d + lr * (y - y_hat) * (y_hat**2 / math.e**(weighted_sum)) * x_d for w_d, x_d in zip(self.weights, x)]\n",
    "        self.bias += lr * (y - y_hat) * (y_hat**2 / math.e**(weighted_sum))\n",
    "    \n",
    "    def process_dataset(self, lr):\n",
    "        self.shuffle_dataset()\n",
    "        for i in range(0, len(self.dataset)):\n",
    "            x, y, y_hat = self.process_one_point(self.dataset[i], self.true_labels[i])\n",
    "            self.update_weights_bias(lr, x, y, y_hat)\n",
    "    \n",
    "    def get_current_true_loss(self):\n",
    "        weighted_sums = [sum([w_d * x_d for w_d, x_d in zip(p.weights, s)]) + self.bias for s in self.dataset]\n",
    "        pred_labels = [1 if ws > 0 else 0 for ws in weighted_sums]\n",
    "        loss = sum([(t - p)**2 for t, p in zip(self.true_labels, pred_labels)])\n",
    "        return loss\n",
    "    \n",
    "    def get_current_approximated_loss(self):\n",
    "        weighted_sums = [sum([w_d * x_d for w_d, x_d in zip(p.weights, s)]) + self.bias for s in self.dataset]\n",
    "        pred_labels = [1 / (1 + math.e**(-1 * ws)) for ws in weighted_sums]\n",
    "        loss = sum([(t - p)**2 for t, p in zip(self.true_labels, pred_labels)])\n",
    "        return loss"
   ]
  },
  {
   "cell_type": "markdown",
   "id": "8ab4b3b8-3519-4655-9610-0387c1e68035",
   "metadata": {},
   "source": [
    "Train the perceptron classifier and graph the result:"
   ]
  },
  {
   "cell_type": "code",
   "execution_count": 15,
   "id": "f350be36-4430-4914-9d2e-172235217ab7",
   "metadata": {},
   "outputs": [],
   "source": [
    "p = Perceptron(samples, true_classifications)\n",
    "loss_vals_perceptron_from_scratch = []\n",
    "for epoch in range(0, 100000):\n",
    "    p.process_dataset(lr)\n",
    "    loss_vals_perceptron_from_scratch.append(p.get_current_true_loss())"
   ]
  },
  {
   "cell_type": "code",
   "execution_count": 16,
   "id": "ca920083-5984-48ef-b791-b6664ef2c126",
   "metadata": {},
   "outputs": [
    {
     "data": {
      "image/png": "[encoded data removed]",
      "text/plain": [
       "<Figure size 432x288 with 1 Axes>"
      ]
     },
     "metadata": {
      "needs_background": "light"
     },
     "output_type": "display_data"
    }
   ],
   "source": [
    "predicted_boundary_function = lambda x1: (-1 * p.weights[0] / p.weights[1]) * x1 - p.bias / p.weights[1]\n",
    "\n",
    "plt.grid()\n",
    "plt.axhline(0, color=\"black\")\n",
    "plt.axvline(0, color=\"black\")\n",
    "plt.xlim([X1_LOWER_BOUND, X1_UPPER_BOUND])\n",
    "plt.ylim([X2_LOWER_BOUND, X2_UPPER_BOUND])\n",
    "plt.axline(\n",
    "    (X1_LOWER_BOUND, TRUE_BOUNDARY_FUNCTION(X1_LOWER_BOUND)),\n",
    "    (X1_UPPER_BOUND, TRUE_BOUNDARY_FUNCTION(X1_UPPER_BOUND)),\n",
    "    color='black',\n",
    "    label='True Boundary'\n",
    ")\n",
    "plt.axline(\n",
    "    (X1_LOWER_BOUND, predicted_boundary_function(X1_LOWER_BOUND)),\n",
    "    (X1_UPPER_BOUND, predicted_boundary_function(X1_UPPER_BOUND)),\n",
    "    color='red',\n",
    "    label='Predicted Boundary'\n",
    ")\n",
    "for i in range(0, NUM_SAMPLES):\n",
    "    plt.plot(samples[i][0], samples[i][1], color=\"black\", marker=\".\" if true_classifications[i] == 0 else \"x\")\n",
    "plt.legend()\n",
    "plt.show()"
   ]
  },
  {
   "cell_type": "markdown",
   "id": "108e7c31-b116-4cab-91a5-f2575b719002",
   "metadata": {},
   "source": [
    "Let me look at the graph of the total loss per epoch as well:"
   ]
  },
  {
   "cell_type": "code",
   "execution_count": 17,
   "id": "3e637b75-6646-47b8-8d6e-ca7768420038",
   "metadata": {},
   "outputs": [
    {
     "data": {
      "image/png": "[encoded data removed]",
      "text/plain": [
       "<Figure size 432x288 with 1 Axes>"
      ]
     },
     "metadata": {
      "needs_background": "light"
     },
     "output_type": "display_data"
    }
   ],
   "source": [
    "plt.title(\"Loss Over Time\")\n",
    "plt.xlabel(\"Epochs\")\n",
    "plt.ylabel(\"Total Loss\")\n",
    "plt.plot(loss_vals_perceptron_from_scratch)\n",
    "plt.show()"
   ]
  },
  {
   "cell_type": "markdown",
   "id": "77453452-e2e1-4eb9-8e56-235fc073df31",
   "metadata": {},
   "source": [
    "I can see that the predicted boundary cleanly separates the data into two classes. However, it is unlikely that the equation for the predicted boundary will be equivalent to that of the true boundary. One way I can try to get a better estimate of the true boundary is to collect more data points. While that might help a little, there are still an infinite amount of lines that can be drawn to linearly separate the data. The perceptron algorithm will not always give the same boundary line if the input data is processed in a different order. While the perceptron is good at finding a line that divides linearly seperable data, other techniques might be useful, like **support vector machines**, in order to find boundaries that might be better generalizations for unobserved data."
   ]
  },
  {
   "cell_type": "markdown",
   "id": "2945b5ad-f8a3-40ba-8c3d-447d31afea28",
   "metadata": {},
   "source": [
    "### PyTorch Implementation"
   ]
  },
  {
   "cell_type": "markdown",
   "id": "9242cb72-11d6-4d69-8dff-ff5407e78b69",
   "metadata": {},
   "source": [
    "Here is my PyTorch implementation of the binary classifier perceptron."
   ]
  },
  {
   "cell_type": "code",
   "execution_count": 18,
   "id": "a0fe9d69-0104-4048-abc7-faca69ef9aee",
   "metadata": {
    "tags": []
   },
   "outputs": [],
   "source": [
    "class Perceptron(nn.Module):\n",
    "    def __init__(self):\n",
    "        super(Perceptron, self).__init__()\n",
    "        self.ws = nn.Linear(2, 1, bias=True)\n",
    "        self.af = nn.Sigmoid()\n",
    "    \n",
    "    def forward(self, x):\n",
    "        weighted_sum = self.ws(x)\n",
    "        return self.af(weighted_sum)\n",
    "\n",
    "p = Perceptron()\n",
    "\n",
    "samples_tensor = torch.tensor(samples)\n",
    "true_classifications_tensor = torch.FloatTensor(true_classifications).unsqueeze(dim=1)\n",
    "\n",
    "criterion = nn.MSELoss()\n",
    "optimizer = torch.optim.SGD(p.parameters(), lr=0.001)\n",
    "\n",
    "loss_pytorch_perceptron = []\n",
    "\n",
    "for epoch in range(0, 100000):\n",
    "    y_hat = p(samples_tensor)\n",
    "\n",
    "    loss = criterion(true_classifications_tensor, y_hat)\n",
    "    loss_pytorch_perceptron.append(loss.detach())\n",
    "\n",
    "    optimizer.zero_grad()\n",
    "    loss.backward()\n",
    "    optimizer.step()"
   ]
  },
  {
   "cell_type": "markdown",
   "id": "f2b20677-e994-4dc4-85a3-029cc0eed3d1",
   "metadata": {},
   "source": [
    "Graph the result of the trained perceptron binary classifier:"
   ]
  },
  {
   "cell_type": "code",
   "execution_count": 19,
   "id": "c0b9b028-a229-4342-8bda-e0d3938f043a",
   "metadata": {},
   "outputs": [
    {
     "data": {
      "image/png": "[encoded data removed]",
      "text/plain": [
       "<Figure size 432x288 with 1 Axes>"
      ]
     },
     "metadata": {
      "needs_background": "light"
     },
     "output_type": "display_data"
    }
   ],
   "source": [
    "predicted_boundary_function = lambda x1: (-1 * p.ws.weight[0][0].item() / p.ws.weight[0][1].item()) * x1 - p.ws.bias.item() / p.ws.weight[0][1].item()\n",
    "\n",
    "plt.grid()\n",
    "plt.axhline(0, color=\"black\")\n",
    "plt.axvline(0, color=\"black\")\n",
    "plt.xlim([X1_LOWER_BOUND, X1_UPPER_BOUND])\n",
    "plt.ylim([X2_LOWER_BOUND, X2_UPPER_BOUND])\n",
    "plt.axline(\n",
    "    (X1_LOWER_BOUND, TRUE_BOUNDARY_FUNCTION(X1_LOWER_BOUND)),\n",
    "    (X1_UPPER_BOUND, TRUE_BOUNDARY_FUNCTION(X1_UPPER_BOUND)),\n",
    "    color='black',\n",
    "    label='True Boundary'\n",
    ")\n",
    "plt.axline(\n",
    "    (X1_LOWER_BOUND, predicted_boundary_function(X1_LOWER_BOUND)),\n",
    "    (X1_UPPER_BOUND, predicted_boundary_function(X1_UPPER_BOUND)),\n",
    "    color='red',\n",
    "    label='Predicted Boundary'\n",
    ")\n",
    "for i in range(0, NUM_SAMPLES):\n",
    "    plt.plot(samples[i][0], samples[i][1], color=\"black\", marker=\".\" if true_classifications[i] == 0 else \"x\")\n",
    "plt.legend()\n",
    "plt.show()"
   ]
  },
  {
   "cell_type": "markdown",
   "id": "4f7153bc-ca3c-48a4-b773-60b14ece609d",
   "metadata": {},
   "source": [
    "Let me look at the graph of the total loss per epoch as well:"
   ]
  },
  {
   "cell_type": "code",
   "execution_count": 20,
   "id": "e239ab4f-791c-4dd2-b92e-7430d19e2a14",
   "metadata": {},
   "outputs": [
    {
     "data": {
      "image/png": "[encoded data removed]",
      "text/plain": [
       "<Figure size 432x288 with 1 Axes>"
      ]
     },
     "metadata": {
      "needs_background": "light"
     },
     "output_type": "display_data"
    }
   ],
   "source": [
    "plt.title(\"Loss Over Time\")\n",
    "plt.xlabel(\"Epochs\")\n",
    "plt.ylabel(\"Total Loss\")\n",
    "plt.plot(loss_pytorch_perceptron)\n",
    "plt.show()"
   ]
  },
  {
   "cell_type": "markdown",
   "id": "92a2681a-d9af-4941-98d6-caccedfa86b1",
   "metadata": {},
   "source": [
    "# Appendix"
   ]
  },
  {
   "cell_type": "markdown",
   "id": "adddecb1-6cde-4785-847e-02ecdb5938a1",
   "metadata": {
    "tags": []
   },
   "source": [
    "#### Links"
   ]
  },
  {
   "cell_type": "markdown",
   "id": "d45149e6-a05e-4bd8-9604-f3737b8eaab4",
   "metadata": {},
   "source": [
    "Some possibly helpful links for understanding the perceptron. I looked at all of them but some were more helpful than others."
   ]
  },
  {
   "cell_type": "markdown",
   "id": "bfa194a6-05be-4902-984a-4431ec1be5b7",
   "metadata": {},
   "source": [
    "https://natureofcode.com/book/chapter-10-neural-networks/  \n",
    "https://en.wikipedia.org/wiki/Perceptron  \n",
    "https://www.youtube.com/watch?v=4Gac5I64LM4&ab_channel=ritvikmath  \n",
    "http://web.mit.edu/6.S097/www/resources/L01.pdf  \n",
    "https://stats.stackexchange.com/questions/200445/machine-learning-intuition-behind-perceptron-learning-algorithm  \n",
    "https://stats.stackexchange.com/questions/387695/derivation-of-perceptron-weight-update-formula  \n",
    "https://stats.stackexchange.com/questions/411212/how-are-the-weights-updated-in-the-perceptron-learning-rule  \n",
    "https://datascience.stackexchange.com/questions/36450/what-is-the-difference-between-gradient-descent-and-stochastic-gradient-descent  \n",
    "https://towardsdatascience.com/the-hitchhikers-guide-to-optimization-in-machine-learning-edcf5a104210  \n",
    "https://www.reddit.com/r/pytorch/comments/mvpj9k/how_to_change_pytorch_sigmoid_function_to_be_more/  \n",
    "https://stackoverflow.com/questions/67203664/how-to-change-pytorch-sigmoid-function-to-be-steeper"
   ]
  },
  {
   "cell_type": "markdown",
   "id": "b2e0acf4-6328-48bd-9bf1-a9b86b8e7f79",
   "metadata": {},
   "source": [
    "#### Versions Used"
   ]
  },
  {
   "cell_type": "markdown",
   "id": "7688c6fd-cc5b-4f4b-8fc0-efbc9404ba60",
   "metadata": {},
   "source": [
    "python 3.8.9  \n",
    "jupyterlab 3.3.4  \n",
    "matplotlib 3.5.1  \n",
    "numpy 1.21.5  \n",
    "torch 1.11.0"
   ]
  }
 ],
 "metadata": {
  "kernelspec": {
   "display_name": "Python 3 (ipykernel)",
   "language": "python",
   "name": "python3"
  },
  "language_info": {
   "codemirror_mode": {
    "name": "ipython",
    "version": 3
   },
   "file_extension": ".py",
   "mimetype": "text/x-python",
   "name": "python",
   "nbconvert_exporter": "python",
   "pygments_lexer": "ipython3",
   "version": "3.8.9"
  }
 },
 "nbformat": 4,
 "nbformat_minor": 5
}
